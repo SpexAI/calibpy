{
 "cells": [
  {
   "cell_type": "markdown",
   "metadata": {},
   "source": [
    "# The Settings Object\n",
    "\n",
    "The main purpose of Settings objects is managing attributes easily. A settings object can be initialized via a dictionary or a .yaml config file. All attributes are transformed to class attributes. "
   ]
  },
  {
   "cell_type": "code",
   "execution_count": 12,
   "metadata": {},
   "outputs": [],
   "source": [
    "# We import the settings class from the Settings module\n",
    "from calibpy.Settings import Settings\n",
    "\n",
    "settings = Settings()"
   ]
  },
  {
   "cell_type": "markdown",
   "metadata": {},
   "source": [
    "we can populate the Settings instance from a dictionary"
   ]
  },
  {
   "cell_type": "code",
   "execution_count": 13,
   "metadata": {},
   "outputs": [
    {
     "name": "stdout",
     "output_type": "stream",
     "text": [
      "Settings Attributes:\n",
      "\tmy_attr: 0\n",
      "\tmy_other_attr: True\n",
      "\n"
     ]
    }
   ],
   "source": [
    "settings.from_params({\n",
    "    \"my_attr\": 0,\n",
    "    \"my_other_attr\": True\n",
    "})\n",
    "# this Settings object should now be populated\n",
    "print(settings)"
   ]
  },
  {
   "cell_type": "markdown",
   "metadata": {},
   "source": [
    "and we should be able to access the attributes directly from the object"
   ]
  },
  {
   "cell_type": "code",
   "execution_count": 4,
   "metadata": {},
   "outputs": [
    {
     "name": "stdout",
     "output_type": "stream",
     "text": [
      "my_attr = 0\n",
      "my_other_attr = True\n"
     ]
    }
   ],
   "source": [
    "print(\"my_attr =\", settings.my_attr)\n",
    "print(\"my_other_attr =\", settings.my_other_attr)"
   ]
  },
  {
   "cell_type": "markdown",
   "metadata": {},
   "source": [
    "You can ensure that attributes are really available and have a specific type. This is useful when loading from .yaml to ensure your workflow has all fields expected as well as the correct input types."
   ]
  },
  {
   "cell_type": "code",
   "execution_count": 10,
   "metadata": {},
   "outputs": [
    {
     "name": "stdout",
     "output_type": "stream",
     "text": [
      "True\n",
      "True\n",
      "Missing Settings Entry [{key}] Exception!\n",
      "False\n"
     ]
    }
   ],
   "source": [
    "print(settings.ensure(\"my_attr\", int))\n",
    "print(settings.ensure(\"my_other_attr\", bool))\n",
    "\n",
    "# you can be brutal and throw an Exception if the check fails \n",
    "try:\n",
    "    print(settings.ensure(\"my_third_attr\", float))\n",
    "except Exception as e:\n",
    "    print(e)\n",
    "\n",
    "# or by setting throw_error=False, just return False in case\n",
    "print(settings.ensure(\"my_third_attr\", float, throw_error=False))"
   ]
  },
  {
   "cell_type": "markdown",
   "metadata": {},
   "source": [
    "Using save and load you can store the object and reload it as .yaml file"
   ]
  },
  {
   "cell_type": "code",
   "execution_count": 15,
   "metadata": {},
   "outputs": [],
   "source": [
    "settings.save(save_dir=\"my/save/dir\", filename=\"my_settings\")\n",
    "settings.from_config(config_filename=\"my/save/dir/my_settings.yaml\")"
   ]
  },
  {
   "cell_type": "markdown",
   "metadata": {},
   "source": [
    "# The Camera Object"
   ]
  },
  {
   "cell_type": "code",
   "execution_count": 16,
   "metadata": {},
   "outputs": [],
   "source": [
    "from calibpy.Camera import Camera"
   ]
  },
  {
   "cell_type": "code",
   "execution_count": null,
   "metadata": {},
   "outputs": [],
   "source": []
  }
 ],
 "metadata": {
  "kernelspec": {
   "display_name": "Python 3.9.12 ('calibpy')",
   "language": "python",
   "name": "python3"
  },
  "language_info": {
   "codemirror_mode": {
    "name": "ipython",
    "version": 3
   },
   "file_extension": ".py",
   "mimetype": "text/x-python",
   "name": "python",
   "nbconvert_exporter": "python",
   "pygments_lexer": "ipython3",
   "version": "3.9.12"
  },
  "orig_nbformat": 4,
  "vscode": {
   "interpreter": {
    "hash": "aa0264ea1a62cec5eb5e50cf9a23652363296a9d15edb388a122e5cbc7bb7faa"
   }
  }
 },
 "nbformat": 4,
 "nbformat_minor": 2
}
