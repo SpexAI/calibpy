{
 "cells": [
  {
   "cell_type": "markdown",
   "metadata": {},
   "source": [
    "# The Settings Object\n",
    "\n",
    "The main purpose of Settings objects is managing attributes easily. \n",
    "A settings object can be initialized via a dictionary or a .yaml config file. \n",
    "All attributes are transformed to class attributes. "
   ]
  },
  {
   "cell_type": "code",
   "execution_count": null,
   "metadata": {},
   "outputs": [],
   "source": [
    "# We import the settings class from the Settings module\n",
    "from calibpy.Settings import Settings\n",
    "\n",
    "settings = Settings()"
   ]
  },
  {
   "cell_type": "markdown",
   "metadata": {},
   "source": [
    "we can populate the Settings instance from a dictionary"
   ]
  },
  {
   "cell_type": "code",
   "execution_count": null,
   "metadata": {},
   "outputs": [],
   "source": [
    "settings.from_params({\n",
    "    \"my_attr\": 0,\n",
    "    \"my_other_attr\": True\n",
    "})\n",
    "# this Settings object should now be populated\n",
    "print(settings)"
   ]
  },
  {
   "cell_type": "markdown",
   "metadata": {},
   "source": [
    "and we should be able to access the attributes directly from the object"
   ]
  },
  {
   "cell_type": "code",
   "execution_count": null,
   "metadata": {},
   "outputs": [],
   "source": [
    "print(\"my_attr =\", settings.my_attr)\n",
    "print(\"my_other_attr =\", settings.my_other_attr)"
   ]
  },
  {
   "cell_type": "markdown",
   "metadata": {},
   "source": [
    "You can ensure that attributes are really available and have a specific type. \n",
    "This is useful when loading from .yaml to ensure your workflow has all fields \n",
    "expected as well as the correct input types."
   ]
  },
  {
   "cell_type": "code",
   "execution_count": null,
   "metadata": {},
   "outputs": [],
   "source": [
    "print(settings.ensure(\"my_attr\", int))\n",
    "print(settings.ensure(\"my_other_attr\", bool))\n",
    "\n",
    "# you can be brutal and throw an Exception if the check fails \n",
    "try:\n",
    "    print(settings.ensure(\"my_third_attr\", float))\n",
    "except Exception as e:\n",
    "    print(e)\n",
    "\n",
    "# or by setting throw_error=False, just return False in case\n",
    "print(settings.ensure(\"my_third_attr\", float, throw_error=False))"
   ]
  },
  {
   "cell_type": "markdown",
   "metadata": {},
   "source": [
    "Using save and load you can store the object and reload it as .yaml file"
   ]
  },
  {
   "cell_type": "code",
   "execution_count": null,
   "metadata": {},
   "outputs": [],
   "source": [
    "settings.save(save_dir=\"my/save/dir\", filename=\"my_settings\")\n",
    "settings.from_config(config_filename=\"my/save/dir/my_settings.yaml\")"
   ]
  },
  {
   "cell_type": "markdown",
   "metadata": {},
   "source": [
    "# The Camera Object\n",
    "\n",
    "The camera class is also mainly a data container storing all essential camera information. \n",
    "It inherits from a class called Serializer which makes it possible to easily access, write \n",
    "and load its data."
   ]
  },
  {
   "cell_type": "code",
   "execution_count": 1,
   "metadata": {},
   "outputs": [
    {
     "name": "stdout",
     "output_type": "stream",
     "text": [
      "Camera:\n",
      "-----------------------------------\n",
      " - name | <class 'str'>:\n",
      "\tDefault Cam\n",
      " - f_mm | <class 'int'>:\n",
      "\t50\n",
      " - sensor_size | <class 'tuple'>:\n",
      "\t(20.25, 36.0)\n",
      " - image_size | <class 'tuple'>:\n",
      "\t(1080, 1920)\n",
      " - intrinsics | <class 'numpy.ndarray'>:\n",
      "\t[[2.66666667e+03 0.00000000e+00 9.60000000e+02]\n",
      " [0.00000000e+00 2.66666667e+03 5.40000000e+02]\n",
      " [0.00000000e+00 0.00000000e+00 1.00000000e+00]]\n",
      " - distortion | <class 'numpy.ndarray'>:\n",
      "\t[[0. 0. 0. 0. 0.]]\n",
      " - RT | <class 'numpy.ndarray'>:\n",
      "\t[[1. 0. 0. 0.]\n",
      " [0. 1. 0. 0.]\n",
      " [0. 0. 1. 0.]\n",
      " [0. 0. 0. 1.]]\n",
      " - RTb | <class 'numpy.ndarray'>:\n",
      "\t[[1. 0. 0. 0.]\n",
      " [0. 1. 0. 0.]\n",
      " [0. 0. 1. 0.]\n",
      " [0. 0. 0. 1.]]\n",
      "\n",
      "cam.f_px = 2666.6666666666665\n",
      "cam.fx = 2666.6666666666665\n",
      "cam.fy = 2666.6666666666665\n"
     ]
    }
   ],
   "source": [
    "import numpy as np\n",
    "from calibpy.Camera import Camera\n",
    "cam = Camera()\n",
    "\n",
    "# using quick_init we can \n",
    "# init an example camera\n",
    "cam.quick_init()\n",
    "print(cam)\n",
    "\n",
    "print(\"cam.f_px =\", cam.f_px)\n",
    "print(\"cam.fx =\", cam.fx)\n",
    "print(\"cam.fy =\", cam.fy)"
   ]
  },
  {
   "cell_type": "markdown",
   "metadata": {},
   "source": [
    " We can set camera properties manually using compute_intrinsics and set_distortion..."
   ]
  },
  {
   "cell_type": "code",
   "execution_count": 2,
   "metadata": {},
   "outputs": [
    {
     "name": "stdout",
     "output_type": "stream",
     "text": [
      "Camera:\n",
      "-----------------------------------\n",
      " - name | <class 'str'>:\n",
      "\tMyCam\n",
      " - f_mm | <class 'float'>:\n",
      "\t16.0\n",
      " - sensor_size | <class 'NoneType'>:\n",
      "\tNone\n",
      " - image_size | <class 'tuple'>:\n",
      "\t(960, 1280)\n",
      " - intrinsics | <class 'numpy.ndarray'>:\n",
      "\t[[2.048e+03 0.000e+00 6.400e+02]\n",
      " [0.000e+00 2.048e+03 4.800e+02]\n",
      " [0.000e+00 0.000e+00 1.000e+00]]\n",
      " - distortion | <class 'numpy.ndarray'>:\n",
      "\t[[ 0.01 -0.02  0.03  0.04 -0.05]]\n",
      " - RT | <class 'NoneType'>:\n",
      "\tNone\n",
      " - RTb | <class 'NoneType'>:\n",
      "\tNone\n",
      "\n",
      "cam.f_px = 2048.0\n",
      "cam.fx = 2048.0\n",
      "cam.fy = 2048.0\n"
     ]
    }
   ],
   "source": [
    "cam = Camera(name=\"MyCam\")\n",
    "cam.compute_intrinsics(f_mm=16.0, sensor_size=(7.5, 10), image_size=(960, 1280))\n",
    "cam.set_distortion(k1=0.01, k2=-0.02, p1=0.03, p2=0.04, k3=-0.05)\n",
    "print(cam)\n",
    "print(\"cam.f_px =\", cam.f_px)\n",
    "print(\"cam.fx =\", cam.fx)\n",
    "print(\"cam.fy =\", cam.fy)"
   ]
  },
  {
   "cell_type": "markdown",
   "metadata": {},
   "source": [
    "... or individually like so, ..."
   ]
  },
  {
   "cell_type": "code",
   "execution_count": 3,
   "metadata": {},
   "outputs": [
    {
     "name": "stdout",
     "output_type": "stream",
     "text": [
      "Camera:\n",
      "-----------------------------------\n",
      " - name | <class 'str'>:\n",
      "\tMyCam\n",
      " - f_mm | <class 'float'>:\n",
      "\t16.0\n",
      " - sensor_size | <class 'NoneType'>:\n",
      "\tNone\n",
      " - image_size | <class 'tuple'>:\n",
      "\t(960, 1280)\n",
      " - intrinsics | <class 'numpy.ndarray'>:\n",
      "\t[[2.048e+03 0.000e+00 6.400e+02]\n",
      " [0.000e+00 2.048e+03 4.800e+02]\n",
      " [0.000e+00 0.000e+00 1.000e+00]]\n",
      " - distortion | <class 'numpy.ndarray'>:\n",
      "\t[[ 0.01 -0.02  0.03  0.04  0.05]]\n",
      " - RT | <class 'NoneType'>:\n",
      "\tNone\n",
      " - RTb | <class 'NoneType'>:\n",
      "\tNone\n",
      "\n",
      "cam.f_px = 2048.0\n",
      "cam.fx = 2048.0\n",
      "cam.fy = 2048.0\n"
     ]
    }
   ],
   "source": [
    "from calibpy.Camera import Camera\n",
    "import numpy as np\n",
    "cam = Camera(name=\"MyCam\")\n",
    "cam.f_mm=16.0\n",
    "cam.sensor_size=(7.5, 10)\n",
    "cam.image_size=(960, 1280)\n",
    "cam.compute_intrinsics()\n",
    "cam.distortion = np.array([[0.01,-0.02,0.03,0.04,0.05]])\n",
    "print(cam)\n",
    "print(\"cam.f_px =\", cam.f_px)\n",
    "print(\"cam.fx =\", cam.fx)\n",
    "print(\"cam.fy =\", cam.fy)"
   ]
  },
  {
   "cell_type": "markdown",
   "metadata": {},
   "source": [
    "... or we load from a dict or .yaml file"
   ]
  },
  {
   "cell_type": "code",
   "execution_count": 4,
   "metadata": {},
   "outputs": [
    {
     "name": "stdout",
     "output_type": "stream",
     "text": [
      "cam.f_px = 2048.0\n",
      "cam.fx = 2048.0\n",
      "cam.fy = 2048.0\n"
     ]
    }
   ],
   "source": [
    "cam = Camera(name=\"MyCam\")\n",
    "cam.fro"
   ]
  },
  {
   "cell_type": "code",
   "execution_count": null,
   "metadata": {},
   "outputs": [],
   "source": []
  }
 ],
 "metadata": {
  "kernelspec": {
   "display_name": "Python 3.9.12 ('calibpy')",
   "language": "python",
   "name": "python3"
  },
  "language_info": {
   "codemirror_mode": {
    "name": "ipython",
    "version": 3
   },
   "file_extension": ".py",
   "mimetype": "text/x-python",
   "name": "python",
   "nbconvert_exporter": "python",
   "pygments_lexer": "ipython3",
   "version": "3.9.12"
  },
  "orig_nbformat": 4,
  "vscode": {
   "interpreter": {
    "hash": "2e6eb3a476005f7868e6297ca940fe26402b3ef1827ab8dd0ab4beee093f8a28"
   }
  }
 },
 "nbformat": 4,
 "nbformat_minor": 2
}
